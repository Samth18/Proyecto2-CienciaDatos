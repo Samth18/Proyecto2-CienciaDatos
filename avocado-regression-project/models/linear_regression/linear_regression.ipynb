{
 "cells": [
  {
   "cell_type": "markdown",
   "id": "20ab127b",
   "metadata": {},
   "source": [
    "Importacion de librerias"
   ]
  },
  {
   "cell_type": "code",
   "execution_count": null,
   "id": "493cb5bd",
   "metadata": {
    "vscode": {
     "languageId": "plaintext"
    }
   },
   "outputs": [],
   "source": [
    "import pandas as pd\n",
    "import numpy as np\n",
    "import matplotlib.pyplot as plt\n",
    "import seaborn as sns\n",
    "from datetime import datetime\n",
    "import warnings\n",
    "warnings.filterwarnings('ignore')\n",
    "\n",
    "from sklearn.model_selection import train_test_split, cross_val_score, learning_curve\n",
    "from sklearn.linear_model import LinearRegression\n",
    "from sklearn.preprocessing import StandardScaler\n",
    "from sklearn.metrics import (mean_squared_error, mean_absolute_error, \n",
    "                             r2_score, mean_absolute_percentage_error)\n",
    "\n",
    "plt.style.use('seaborn-v0_8-darkgrid')\n",
    "sns.set_palette(\"husl\")\n",
    "plt.rcParams['figure.figsize'] = (12, 6)\n",
    "plt.rcParams['font.size'] = 10\n",
    "\n",
    "print(\"=\" * 80)\n",
    "print(\"MODELO DE REGRESIÓN LINEAL - PREDICCIÓN DE PRECIOS DE AGUACATE\")\n",
    "print(\"=\" * 80)\n",
    "print(f\"Fecha de ejecución: {datetime.now().strftime('%Y-%m-%d %H:%M:%S')}\")\n",
    "print(\"=\" * 80)\n"
   ]
  },
  {
   "cell_type": "markdown",
   "id": "4ae34710",
   "metadata": {},
   "source": [
    "Carga y exploración inicial de datos"
   ]
  },
  {
   "cell_type": "code",
   "execution_count": null,
   "id": "a7168a32",
   "metadata": {
    "vscode": {
     "languageId": "plaintext"
    }
   },
   "outputs": [],
   "source": [
    "print(\"\\n[1] CARGANDO DATOS PREPROCESADOS...\")\n",
    "print(\"-\" * 80)\n",
    "\n",
    "df = pd.read_csv('../../data/processed/avocado_clean.csv')\n",
    "\n",
    "print(f\"✓ Datos cargados exitosamente\")\n",
    "print(f\"  - Dimensiones: {df.shape[0]} filas × {df.shape[1]} columnas\")\n",
    "print(f\"  - Memoria utilizada: {df.memory_usage(deep=True).sum() / 1024**2:.2f} MB\")\n",
    "\n",
    "print(\"\\n[2] INFORMACIÓN DEL DATASET\")\n",
    "print(\"-\" * 80)\n",
    "print(df.info())\n",
    "\n",
    "print(\"\\n[3] ESTADÍSTICAS DESCRIPTIVAS\")\n",
    "print(\"-\" * 80)\n",
    "print(df.describe())"
   ]
  },
  {
   "cell_type": "markdown",
   "id": "651fc251",
   "metadata": {},
   "source": [
    "Preparación de datos para regresion lineal"
   ]
  },
  {
   "cell_type": "code",
   "execution_count": null,
   "id": "697124bf",
   "metadata": {
    "vscode": {
     "languageId": "plaintext"
    }
   },
   "outputs": [],
   "source": [
    "print(\"\\n[4] PREPARACIÓN DE VARIABLES\")\n",
    "print(\"-\" * 80)\n",
    "\n",
    "target = 'AveragePrice'\n",
    "print(f\"Variable objetivo: {target}\")\n",
    "\n",
    "features_to_exclude = [target, 'Date'] if 'Date' in df.columns else [target]\n",
    "feature_columns = [col for col in df.columns if col not in features_to_exclude]\n",
    "\n",
    "print(f\"\\nFeatures seleccionadas ({len(feature_columns)}):\")\n",
    "for i, col in enumerate(feature_columns, 1):\n",
    "    print(f\"  {i}. {col}\")\n",
    "\n",
    "X = df[feature_columns]\n",
    "y = df[target]\n",
    "\n",
    "print(f\"\\n✓ Datos preparados:\")\n",
    "print(f\"  - X shape: {X.shape}\")\n",
    "print(f\"  - y shape: {y.shape}\")"
   ]
  },
  {
   "cell_type": "markdown",
   "id": "1cc4295d",
   "metadata": {},
   "source": [
    "Análisis de correlación"
   ]
  },
  {
   "cell_type": "code",
   "execution_count": null,
   "id": "19ab42b8",
   "metadata": {
    "vscode": {
     "languageId": "plaintext"
    }
   },
   "outputs": [],
   "source": [
    "print(\"\\n[5] ANÁLISIS DE CORRELACIÓN\")\n",
    "print(\"-\" * 80)\n",
    "\n",
    "correlation = df[feature_columns + [target]].corr()[target].sort_values(ascending=False)\n",
    "print(\"\\nTop 10 variables más correlacionadas con AveragePrice:\")\n",
    "print(correlation.head(11)[1:])  # Excluir la correlación consigo misma\n",
    "\n",
    "plt.figure(figsize=(14, 10))\n",
    "correlation_matrix = df[feature_columns + [target]].corr()\n",
    "mask = np.triu(np.ones_like(correlation_matrix, dtype=bool))\n",
    "sns.heatmap(correlation_matrix, mask=mask, annot=True, fmt='.2f', \n",
    "            cmap='coolwarm', center=0, square=True, linewidths=1,\n",
    "            cbar_kws={\"shrink\": 0.8})\n",
    "plt.title('Matriz de Correlación - Features vs AveragePrice', \n",
    "          fontsize=16, fontweight='bold', pad=20)\n",
    "plt.tight_layout()\n",
    "plt.savefig('../results/linear_regression_correlation_matrix.png', dpi=300, bbox_inches='tight')\n",
    "print(\"\\n✓ Matriz de correlación guardada\")\n",
    "plt.show()"
   ]
  },
  {
   "cell_type": "markdown",
   "id": "571d71e4",
   "metadata": {},
   "source": [
    "División de datos (train/test)"
   ]
  },
  {
   "cell_type": "code",
   "execution_count": null,
   "id": "fb00f43c",
   "metadata": {
    "vscode": {
     "languageId": "plaintext"
    }
   },
   "outputs": [],
   "source": [
    "print(\"\\n[6] DIVISIÓN DE DATOS\")\n",
    "print(\"-\" * 80)\n",
    "\n",
    "X_train, X_test, y_train, y_test = train_test_split(\n",
    "    X, y, test_size=0.2, random_state=42\n",
    ")\n",
    "\n",
    "print(f\"✓ División completada:\")\n",
    "print(f\"  - Conjunto de entrenamiento: {X_train.shape[0]} muestras ({X_train.shape[0]/len(X)*100:.1f}%)\")\n",
    "print(f\"  - Conjunto de prueba: {X_test.shape[0]} muestras ({X_test.shape[0]/len(X)*100:.1f}%)\")\n",
    "print(f\"\\n  Estadísticas de la variable objetivo:\")\n",
    "print(f\"  - Train: Media={y_train.mean():.3f}, Std={y_train.std():.3f}\")\n",
    "print(f\"  - Test:  Media={y_test.mean():.3f}, Std={y_test.std():.3f}\")\n"
   ]
  },
  {
   "cell_type": "markdown",
   "id": "d2de9f06",
   "metadata": {},
   "source": [
    "Normalizción de datos"
   ]
  },
  {
   "cell_type": "code",
   "execution_count": null,
   "id": "725aef24",
   "metadata": {
    "vscode": {
     "languageId": "plaintext"
    }
   },
   "outputs": [],
   "source": [
    "print(\"\\n[7] NORMALIZACIÓN DE FEATURES\")\n",
    "print(\"-\" * 80)\n",
    "\n",
    "scaler = StandardScaler()\n",
    "X_train_scaled = scaler.fit_transform(X_train)\n",
    "X_test_scaled = scaler.transform(X_test)\n",
    "\n",
    "print(\"✓ Normalización aplicada (StandardScaler)\")\n",
    "print(f\"  - Media features normalizadas: {X_train_scaled.mean():.2e}\")\n",
    "print(f\"  - Desviación estándar: {X_train_scaled.std():.2e}\")\n"
   ]
  },
  {
   "cell_type": "markdown",
   "id": "f7f3c452",
   "metadata": {},
   "source": [
    "Entrenamiento de modelo"
   ]
  },
  {
   "cell_type": "code",
   "execution_count": null,
   "id": "5b17f2ac",
   "metadata": {
    "vscode": {
     "languageId": "plaintext"
    }
   },
   "outputs": [],
   "source": [
    "print(\"\\n[8] ENTRENAMIENTO DEL MODELO DE REGRESIÓN LINEAL\")\n",
    "print(\"-\" * 80)\n",
    "\n",
    "model = LinearRegression()\n",
    "print(\"Entrenando modelo...\")\n",
    "model.fit(X_train_scaled, y_train)\n",
    "print(\"✓ Modelo entrenado exitosamente\")\n",
    "\n",
    "print(f\"\\n  Parámetros del modelo:\")\n",
    "print(f\"  - Número de coeficientes: {len(model.coef_)}\")\n",
    "print(f\"  - Intercepto: {model.intercept_:.4f}\")\n"
   ]
  },
  {
   "cell_type": "markdown",
   "id": "5dd70512",
   "metadata": {},
   "source": [
    "Predicciones"
   ]
  },
  {
   "cell_type": "code",
   "execution_count": null,
   "id": "07ffb5a4",
   "metadata": {
    "vscode": {
     "languageId": "plaintext"
    }
   },
   "outputs": [],
   "source": [
    "print(\"\\n[9] GENERANDO PREDICCIONES\")\n",
    "print(\"-\" * 80)\n",
    "\n",
    "y_train_pred = model.predict(X_train_scaled)\n",
    "y_test_pred = model.predict(X_test_scaled)\n",
    "\n",
    "print(\"✓ Predicciones generadas\")\n",
    "print(f\"  - Predicciones train: {len(y_train_pred)}\")\n",
    "print(f\"  - Predicciones test: {len(y_test_pred)}\")\n"
   ]
  },
  {
   "cell_type": "markdown",
   "id": "842c8ec4",
   "metadata": {},
   "source": [
    "Evaluación del modelo"
   ]
  },
  {
   "cell_type": "code",
   "execution_count": null,
   "id": "5585db54",
   "metadata": {
    "vscode": {
     "languageId": "plaintext"
    }
   },
   "outputs": [],
   "source": [
    "print(\"\\n[10] EVALUACIÓN DEL MODELO\")\n",
    "print(\"=\" * 80)\n",
    "\n",
    "def calculate_metrics(y_true, y_pred, dataset_name):\n",
    "    \"\"\"Calcula y muestra métricas de evaluación\"\"\"\n",
    "    mse = mean_squared_error(y_true, y_pred)\n",
    "    rmse = np.sqrt(mse)\n",
    "    mae = mean_absolute_error(y_true, y_pred)\n",
    "    r2 = r2_score(y_true, y_pred)\n",
    "    mape = mean_absolute_percentage_error(y_true, y_pred) * 100\n",
    "    \n",
    "    print(f\"\\n{dataset_name}:\")\n",
    "    print(f\"  - R² Score:                {r2:.6f}\")\n",
    "    print(f\"  - Mean Squared Error (MSE): {mse:.6f}\")\n",
    "    print(f\"  - Root Mean Squared Error:  {rmse:.6f}\")\n",
    "    print(f\"  - Mean Absolute Error:      {mae:.6f}\")\n",
    "    print(f\"  - MAPE:                     {mape:.4f}%\")\n",
    "    \n",
    "    return {'MSE': mse, 'RMSE': rmse, 'MAE': mae, 'R2': r2, 'MAPE': mape}\n",
    "\n",
    "train_metrics = calculate_metrics(y_train, y_train_pred, \"CONJUNTO DE ENTRENAMIENTO\")\n",
    "test_metrics = calculate_metrics(y_test, y_test_pred, \"CONJUNTO DE PRUEBA\")\n",
    "\n",
    "print(\"\\n[11] VALIDACIÓN CRUZADA (K-FOLD = 5)\")\n",
    "print(\"-\" * 80)\n",
    "cv_scores = cross_val_score(model, X_train_scaled, y_train, cv=5, \n",
    "                            scoring='r2', n_jobs=-1)\n",
    "print(f\"✓ R² Scores por fold: {cv_scores}\")\n",
    "print(f\"  - Media: {cv_scores.mean():.6f}\")\n",
    "print(f\"  - Desviación estándar: {cv_scores.std():.6f}\")\n"
   ]
  },
  {
   "cell_type": "markdown",
   "id": "ce65dff3",
   "metadata": {},
   "source": [
    "Análisis de coeficientes"
   ]
  },
  {
   "cell_type": "code",
   "execution_count": null,
   "id": "60be5a5d",
   "metadata": {
    "vscode": {
     "languageId": "plaintext"
    }
   },
   "outputs": [],
   "source": [
    "print(\"\\n[12] ANÁLISIS DE COEFICIENTES (IMPORTANCIA DE FEATURES)\")\n",
    "print(\"=\" * 80)\n",
    "\n",
    "coefficients = pd.DataFrame({\n",
    "    'Feature': feature_columns,\n",
    "    'Coefficient': model.coef_,\n",
    "    'Abs_Coefficient': np.abs(model.coef_)\n",
    "}).sort_values('Abs_Coefficient', ascending=False)\n",
    "\n",
    "print(\"\\nTop 10 Features más importantes:\")\n",
    "print(coefficients.head(10).to_string(index=False))\n",
    "\n",
    "plt.figure(figsize=(12, 8))\n",
    "top_n = 15\n",
    "top_coef = coefficients.head(top_n)\n",
    "colors = ['green' if x > 0 else 'red' for x in top_coef['Coefficient']]\n",
    "plt.barh(range(len(top_coef)), top_coef['Coefficient'], color=colors, alpha=0.7)\n",
    "plt.yticks(range(len(top_coef)), top_coef['Feature'])\n",
    "plt.xlabel('Coeficiente', fontsize=12, fontweight='bold')\n",
    "plt.title(f'Top {top_n} Features más Importantes (Regresión Lineal)', \n",
    "          fontsize=14, fontweight='bold', pad=15)\n",
    "plt.axvline(x=0, color='black', linestyle='--', linewidth=1)\n",
    "plt.grid(axis='x', alpha=0.3)\n",
    "plt.tight_layout()\n",
    "plt.savefig('../results/linear_regression_feature_importance.png', dpi=300, bbox_inches='tight')\n",
    "print(\"\\n✓ Gráfico de importancia guardado\")\n",
    "plt.show()"
   ]
  },
  {
   "cell_type": "markdown",
   "id": "cf464558",
   "metadata": {},
   "source": [
    "Visualización de resultados"
   ]
  },
  {
   "cell_type": "code",
   "execution_count": null,
   "id": "e4edf0a8",
   "metadata": {
    "vscode": {
     "languageId": "plaintext"
    }
   },
   "outputs": [],
   "source": [
    "print(\"\\n[13] GENERANDO VISUALIZACIONES\")\n",
    "print(\"-\" * 80)\n",
    "\n",
    "fig, axes = plt.subplots(2, 2, figsize=(16, 12))\n",
    "fig.suptitle('Análisis de Resultados - Regresión Lineal', \n",
    "             fontsize=16, fontweight='bold', y=1.00)\n",
    "\n",
    "# 1. Valores Reales vs Predicciones (Test)\n",
    "ax1 = axes[0, 0]\n",
    "ax1.scatter(y_test, y_test_pred, alpha=0.5, s=30, edgecolors='black', linewidth=0.5)\n",
    "ax1.plot([y_test.min(), y_test.max()], [y_test.min(), y_test.max()], \n",
    "         'r--', lw=2, label='Predicción Perfecta')\n",
    "ax1.set_xlabel('Valores Reales', fontsize=11, fontweight='bold')\n",
    "ax1.set_ylabel('Valores Predichos', fontsize=11, fontweight='bold')\n",
    "ax1.set_title(f'Predicciones vs Valores Reales (Test)\\nR² = {test_metrics[\"R2\"]:.4f}', \n",
    "              fontsize=12, fontweight='bold')\n",
    "ax1.legend()\n",
    "ax1.grid(True, alpha=0.3)\n",
    "\n",
    "# 2. Residuos\n",
    "ax2 = axes[0, 1]\n",
    "residuals = y_test - y_test_pred\n",
    "ax2.scatter(y_test_pred, residuals, alpha=0.5, s=30, edgecolors='black', linewidth=0.5)\n",
    "ax2.axhline(y=0, color='r', linestyle='--', linewidth=2)\n",
    "ax2.set_xlabel('Valores Predichos', fontsize=11, fontweight='bold')\n",
    "ax2.set_ylabel('Residuos', fontsize=11, fontweight='bold')\n",
    "ax2.set_title('Análisis de Residuos\\n(Test Set)', fontsize=12, fontweight='bold')\n",
    "ax2.grid(True, alpha=0.3)\n",
    "\n",
    "# 3. Distribución de Residuos\n",
    "ax3 = axes[1, 0]\n",
    "ax3.hist(residuals, bins=50, edgecolor='black', alpha=0.7)\n",
    "ax3.axvline(x=0, color='r', linestyle='--', linewidth=2)\n",
    "ax3.set_xlabel('Residuos', fontsize=11, fontweight='bold')\n",
    "ax3.set_ylabel('Frecuencia', fontsize=11, fontweight='bold')\n",
    "ax3.set_title(f'Distribución de Residuos\\nMedia = {residuals.mean():.4f}, Std = {residuals.std():.4f}', \n",
    "              fontsize=12, fontweight='bold')\n",
    "ax3.grid(True, alpha=0.3, axis='y')\n",
    "\n",
    "# 4. Q-Q Plot\n",
    "ax4 = axes[1, 1]\n",
    "from scipy import stats\n",
    "stats.probplot(residuals, dist=\"norm\", plot=ax4)\n",
    "ax4.set_title('Q-Q Plot (Normalidad de Residuos)', fontsize=12, fontweight='bold')\n",
    "ax4.grid(True, alpha=0.3)\n",
    "\n",
    "plt.tight_layout()\n",
    "plt.savefig('../results/linear_regression_analysis.png', dpi=300, bbox_inches='tight')\n",
    "print(\"✓ Visualizaciones guardadas\")\n",
    "plt.show()"
   ]
  },
  {
   "cell_type": "markdown",
   "id": "9d1561ef",
   "metadata": {},
   "source": [
    "Curva de aprendizaje"
   ]
  },
  {
   "cell_type": "code",
   "execution_count": null,
   "id": "b065faa3",
   "metadata": {
    "vscode": {
     "languageId": "plaintext"
    }
   },
   "outputs": [],
   "source": [
    "print(\"\\n[14] CURVA DE APRENDIZAJE\")\n",
    "print(\"-\" * 80)\n",
    "\n",
    "train_sizes, train_scores, val_scores = learning_curve(\n",
    "    model, X_train_scaled, y_train, cv=5, n_jobs=-1,\n",
    "    train_sizes=np.linspace(0.1, 1.0, 10), scoring='r2'\n",
    ")\n",
    "\n",
    "train_mean = np.mean(train_scores, axis=1)\n",
    "train_std = np.std(train_scores, axis=1)\n",
    "val_mean = np.mean(val_scores, axis=1)\n",
    "val_std = np.std(val_scores, axis=1)\n",
    "\n",
    "plt.figure(figsize=(10, 6))\n",
    "plt.plot(train_sizes, train_mean, label='Training Score', color='blue', marker='o')\n",
    "plt.fill_between(train_sizes, train_mean - train_std, train_mean + train_std, alpha=0.15, color='blue')\n",
    "plt.plot(train_sizes, val_mean, label='Validation Score', color='green', marker='s')\n",
    "plt.fill_between(train_sizes, val_mean - val_std, val_mean + val_std, alpha=0.15, color='green')\n",
    "plt.xlabel('Tamaño del Conjunto de Entrenamiento', fontsize=12, fontweight='bold')\n",
    "plt.ylabel('R² Score', fontsize=12, fontweight='bold')\n",
    "plt.title('Curva de Aprendizaje - Regresión Lineal', fontsize=14, fontweight='bold', pad=15)\n",
    "plt.legend(loc='best')\n",
    "plt.grid(True, alpha=0.3)\n",
    "plt.tight_layout()\n",
    "plt.savefig('../results/linear_regression_learning_curve.png', dpi=300, bbox_inches='tight')\n",
    "print(\"✓ Curva de aprendizaje guardada\")\n",
    "plt.show()"
   ]
  }
 ],
 "metadata": {
  "language_info": {
   "name": "python"
  }
 },
 "nbformat": 4,
 "nbformat_minor": 5
}
